{
 "cells": [
  {
   "cell_type": "markdown",
   "metadata": {},
   "source": [
    "<h1>Naive Bayes implementation on a binary classification dataset</h1>"
   ]
  },
  {
   "cell_type": "code",
   "execution_count": 7,
   "metadata": {},
   "outputs": [],
   "source": [
    "from sklearn.datasets.samples_generator import make_blobs\n",
    "from scipy.stats import norm\n",
    "from numpy import mean,std"
   ]
  },
  {
   "cell_type": "code",
   "execution_count": 13,
   "metadata": {},
   "outputs": [],
   "source": [
    "def fit_dist(data):\n",
    "    return norm(mean(data),std(data))"
   ]
  },
  {
   "cell_type": "code",
   "execution_count": 14,
   "metadata": {},
   "outputs": [],
   "source": [
    "def prob(X,prior,dist1,dist2):\n",
    "    return prior*dist1.pdf(X[0])*dist2.pdf(X[1])"
   ]
  },
  {
   "cell_type": "code",
   "execution_count": 24,
   "metadata": {},
   "outputs": [
    {
     "name": "stdout",
     "output_type": "stream",
     "text": [
      "X_sample: [-9.15155186 -4.81286449]\n",
      "P(y=0/ [-9.15155186 -4.81286449] )=0.000\n",
      "P(y=1/ [-9.15155186 -4.81286449] )=0.053\n",
      "predicted class: 1\n",
      "y_sample(The ground Truth): 1\n"
     ]
    }
   ],
   "source": [
    "#Generating a small binary classification dataset\n",
    "X,y=make_blobs(n_samples=100,n_features=2,centers=2,random_state=1)\n",
    "\n",
    "#To differentiate samples of both classes and hence, calculate prior probabilities, that is the probability of two classes\n",
    "Xy0=X[y==0]\n",
    "Xy1=X[y==1]\n",
    "\n",
    "#Prior probability\n",
    "Py0=len(Xy0)/len(X)\n",
    "Py1=len(Xy1)/len(X)\n",
    "\n",
    "#feature #1 for class 0\n",
    "X1y0=Xy0[:,0]\n",
    "#feature #2 for class 0\n",
    "X2y0=Xy0[:,1]\n",
    "#feature #1 for class 1\n",
    "X1y1=Xy1[:,0]\n",
    "#feature #2 for class 1\n",
    "X2y1=Xy1[:,1]\n",
    "\n",
    "#fitting probability distribution(gaussian)\n",
    "#For class 0\n",
    "PX1y0=fit_dist(X1y0)\n",
    "PX2y0=fit_dist(X2y0)\n",
    "#For class 1\n",
    "PX1y1=fit_dist(X1y1)\n",
    "PX2y1=fit_dist(X2y1)\n",
    "\n",
    "X_sample,y_sample=X[1],y[1]\n",
    "\n",
    "#Probability of class 0 given the dataset\n",
    "Py0=prob(X_sample,Py0,PX1y0,PX2y0)\n",
    "#Probability of class 1 given the dataset\n",
    "Py1=prob(X_sample,Py1,PX1y1,PX2y1)\n",
    "\n",
    "print('X_sample:',X_sample)\n",
    "print('P(y=0/',X_sample,')=%.3f'%Py0)\n",
    "print('P(y=1/',X_sample,')=%.3f'%Py1)\n",
    "print('predicted class:',0 if Py0>Py1 else 1)\n",
    "print('y_sample(The ground Truth):',y_sample)"
   ]
  },
  {
   "cell_type": "code",
   "execution_count": null,
   "metadata": {},
   "outputs": [],
   "source": []
  },
  {
   "cell_type": "code",
   "execution_count": null,
   "metadata": {},
   "outputs": [],
   "source": []
  }
 ],
 "metadata": {
  "kernelspec": {
   "display_name": "Python 3",
   "language": "python",
   "name": "python3"
  },
  "language_info": {
   "codemirror_mode": {
    "name": "ipython",
    "version": 3
   },
   "file_extension": ".py",
   "mimetype": "text/x-python",
   "name": "python",
   "nbconvert_exporter": "python",
   "pygments_lexer": "ipython3",
   "version": "3.7.0b4"
  }
 },
 "nbformat": 4,
 "nbformat_minor": 2
}
